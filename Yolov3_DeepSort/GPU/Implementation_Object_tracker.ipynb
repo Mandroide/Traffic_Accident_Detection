{
  "nbformat": 4,
  "nbformat_minor": 0,
  "metadata": {
    "accelerator": "GPU",
    "colab": {
      "name": "Implementation_Object_tracker.ipynb",
      "provenance": [],
      "collapsed_sections": []
    },
    "kernelspec": {
      "display_name": "Python 3",
      "language": "python",
      "name": "python3"
    },
    "language_info": {
      "codemirror_mode": {
        "name": "ipython",
        "version": 3
      },
      "file_extension": ".py",
      "mimetype": "text/x-python",
      "name": "python",
      "nbconvert_exporter": "python",
      "pygments_lexer": "ipython3",
      "version": "3.6.10"
    }
  },
  "cells": [
    {
      "cell_type": "markdown",
      "metadata": {
        "id": "QTKLro_A5Zb1"
      },
      "source": [
        "### UPDATED 10-29-2020"
      ]
    },
    {
      "cell_type": "markdown",
      "metadata": {
        "id": "95g8eTeEHX4s"
      },
      "source": [
        "<table align=\"left\">\n",
        "  <td>\n",
        "    <a target=\"_blank\" href=\"https://colab.research.google.com/github/lopezbec/Traffic_Accident_Detection/blob/master/Yolov3_DeepSort/GPU/Implementation_Object_tracker.ipynb\"><img src=\"https://www.tensorflow.org/images/colab_logo_32px.png\" />Run in Google Colab</a>\n",
        "  </td>\n",
        "</table>"
      ]
    },
    {
      "cell_type": "markdown",
      "metadata": {
        "id": "l8o3J9NAzvbq"
      },
      "source": [
        "#### To run this code you just need to follow the instruction and run each of the code cell by clicking on the “play” button "
      ]
    },
    {
      "cell_type": "markdown",
      "metadata": {
        "id": "7sHmZKgYUh1M"
      },
      "source": [
        "### Housekeeping Notes:"
      ]
    },
    {
      "cell_type": "markdown",
      "metadata": {
        "id": "m86SZCRpyLAM"
      },
      "source": [
        "Before you start working with this notebook, you need decide if you would like to test the code with the video on the GitHub repository or with a new Video.\n",
        "\n",
        "If you would like to run a new video (i.e., your own video) , you would need to clone the repository to your own Google Drive. Hence, first you would need to  \"mount\" your Google Drive in the runtime's Virtual Machine. This will allow you to read and save files from your own Google Drive \"Traffic_Accident_Detection\" folder. \n",
        "\n",
        "To do this, you need to provide the path of your Google Drive for the folder of this assignment and click on the option of “Use_Google_Drive”. Once you provide this information, run this code cell below and follow the instructions. If you don’t click Use_Google_Drive, there is not need to submit a “Working_Directory”\n"
      ]
    },
    {
      "cell_type": "code",
      "metadata": {
        "cellView": "form",
        "id": "E9O9uEy8yKxY",
        "outputId": "fa2ef264-e1db-4610-fa7b-6c80f0a5952d",
        "colab": {
          "base_uri": "https://localhost:8080/"
        }
      },
      "source": [
        "\n",
        "Use_Google_Drive= False #@param {type:\"boolean\"}\n",
        "\n",
        "if Use_Google_Drive:\n",
        "    import os\n",
        "    from google.colab import drive \n",
        "\n",
        "    drive.mount('/content/gdrive',force_remount=True)\n",
        "\n",
        "    Working_Directory = 'My Drive' #@param {type:\"string\"}\n",
        "    wd=\"/content/gdrive/\"+Working_Directory\n",
        "    os.chdir(wd)\n",
        "\n",
        "    !git clone https://github.com/lopezbec/Traffic_Accident_Detection\n",
        "\n",
        "    \n",
        "    %cd Traffic_Accident_Detection/Yolov3_DeepSort/GPU \n",
        "    dirpath = os.getcwd()\n",
        "    print(\"current directory is : \" + dirpath)\n",
        "\n",
        "    \n",
        "else:\n",
        "    !git clone https://github.com/lopezbec/Traffic_Accident_Detection\n",
        "    %cd Traffic_Accident_Detection/Yolov3_DeepSort/GPU \n",
        "\n",
        "\n"
      ],
      "execution_count": 3,
      "outputs": [
        {
          "output_type": "stream",
          "text": [
            "Cloning into 'Traffic_Accident_Detection'...\n",
            "remote: Enumerating objects: 122, done.\u001b[K\n",
            "remote: Counting objects: 100% (122/122), done.\u001b[K\n",
            "remote: Compressing objects: 100% (104/104), done.\u001b[K\n",
            "remote: Total 122 (delta 26), reused 89 (delta 13), pack-reused 0\u001b[K\n",
            "Receiving objects: 100% (122/122), 38.91 MiB | 43.22 MiB/s, done.\n",
            "Resolving deltas: 100% (26/26), done.\n",
            "/content/Traffic_Accident_Detection/Yolov3_DeepSort/GPU\n"
          ],
          "name": "stdout"
        }
      ]
    },
    {
      "cell_type": "markdown",
      "metadata": {
        "id": "t2sRosoUPC4P"
      },
      "source": [
        "Before we begin, we need to install all the requirements from the `requirements-gpu.txt` file "
      ]
    },
    {
      "cell_type": "code",
      "metadata": {
        "id": "_WLjTlzE79IS",
        "outputId": "5d1a9e8e-5fe7-4f6a-f61c-2b19430b9272",
        "colab": {
          "base_uri": "https://localhost:8080/",
          "height": 1000
        }
      },
      "source": [
        "#installing requirements\n",
        "!pip install -r requirements-gpu.txt\n",
        "from IPython.display import clear_output\n",
        "#clear_output()\n",
        "print(\"All Requirements were installed!\")"
      ],
      "execution_count": 4,
      "outputs": [
        {
          "output_type": "stream",
          "text": [
            "Collecting tensorflow-gpu==2.1.0\n",
            "\u001b[?25l  Downloading https://files.pythonhosted.org/packages/0a/93/c7bca39b23aae45cd2e85ad3871c81eccc63b9c5276e926511e2e5b0879d/tensorflow_gpu-2.1.0-cp36-cp36m-manylinux2010_x86_64.whl (421.8MB)\n",
            "\u001b[K     |████████████████████████████████| 421.8MB 37kB/s \n",
            "\u001b[?25hRequirement already satisfied: numpy in /usr/local/lib/python3.6/dist-packages (from -r requirements-gpu.txt (line 2)) (1.18.5)\n",
            "Collecting opencv-python==4.1.1.26\n",
            "\u001b[?25l  Downloading https://files.pythonhosted.org/packages/5e/7e/bd5425f4dacb73367fddc71388a47c1ea570839197c2bcad86478e565186/opencv_python-4.1.1.26-cp36-cp36m-manylinux1_x86_64.whl (28.7MB)\n",
            "\u001b[K     |████████████████████████████████| 28.7MB 100kB/s \n",
            "\u001b[?25hRequirement already satisfied: lxml in /usr/local/lib/python3.6/dist-packages (from -r requirements-gpu.txt (line 4)) (4.2.6)\n",
            "Requirement already satisfied: tqdm in /usr/local/lib/python3.6/dist-packages (from -r requirements-gpu.txt (line 5)) (4.41.1)\n",
            "Requirement already satisfied: seaborn in /usr/local/lib/python3.6/dist-packages (from -r requirements-gpu.txt (line 6)) (0.11.0)\n",
            "Requirement already satisfied: pillow in /usr/local/lib/python3.6/dist-packages (from -r requirements-gpu.txt (line 7)) (7.0.0)\n",
            "Collecting tensorflow-estimator<2.2.0,>=2.1.0rc0\n",
            "\u001b[?25l  Downloading https://files.pythonhosted.org/packages/18/90/b77c328a1304437ab1310b463e533fa7689f4bfc41549593056d812fab8e/tensorflow_estimator-2.1.0-py2.py3-none-any.whl (448kB)\n",
            "\u001b[K     |████████████████████████████████| 450kB 54.6MB/s \n",
            "\u001b[?25hRequirement already satisfied: google-pasta>=0.1.6 in /usr/local/lib/python3.6/dist-packages (from tensorflow-gpu==2.1.0->-r requirements-gpu.txt (line 1)) (0.2.0)\n",
            "Requirement already satisfied: keras-preprocessing>=1.1.0 in /usr/local/lib/python3.6/dist-packages (from tensorflow-gpu==2.1.0->-r requirements-gpu.txt (line 1)) (1.1.2)\n",
            "Requirement already satisfied: protobuf>=3.8.0 in /usr/local/lib/python3.6/dist-packages (from tensorflow-gpu==2.1.0->-r requirements-gpu.txt (line 1)) (3.12.4)\n",
            "Requirement already satisfied: wheel>=0.26; python_version >= \"3\" in /usr/local/lib/python3.6/dist-packages (from tensorflow-gpu==2.1.0->-r requirements-gpu.txt (line 1)) (0.35.1)\n",
            "Requirement already satisfied: wrapt>=1.11.1 in /usr/local/lib/python3.6/dist-packages (from tensorflow-gpu==2.1.0->-r requirements-gpu.txt (line 1)) (1.12.1)\n",
            "Collecting gast==0.2.2\n",
            "  Downloading https://files.pythonhosted.org/packages/4e/35/11749bf99b2d4e3cceb4d55ca22590b0d7c2c62b9de38ac4a4a7f4687421/gast-0.2.2.tar.gz\n",
            "Collecting tensorboard<2.2.0,>=2.1.0\n",
            "\u001b[?25l  Downloading https://files.pythonhosted.org/packages/d9/41/bbf49b61370e4f4d245d4c6051dfb6db80cec672605c91b1652ac8cc3d38/tensorboard-2.1.1-py3-none-any.whl (3.8MB)\n",
            "\u001b[K     |████████████████████████████████| 3.9MB 51.6MB/s \n",
            "\u001b[?25hCollecting keras-applications>=1.0.8\n",
            "\u001b[?25l  Downloading https://files.pythonhosted.org/packages/71/e3/19762fdfc62877ae9102edf6342d71b28fbfd9dea3d2f96a882ce099b03f/Keras_Applications-1.0.8-py3-none-any.whl (50kB)\n",
            "\u001b[K     |████████████████████████████████| 51kB 8.5MB/s \n",
            "\u001b[?25hRequirement already satisfied: grpcio>=1.8.6 in /usr/local/lib/python3.6/dist-packages (from tensorflow-gpu==2.1.0->-r requirements-gpu.txt (line 1)) (1.33.2)\n",
            "Requirement already satisfied: termcolor>=1.1.0 in /usr/local/lib/python3.6/dist-packages (from tensorflow-gpu==2.1.0->-r requirements-gpu.txt (line 1)) (1.1.0)\n",
            "Requirement already satisfied: scipy==1.4.1; python_version >= \"3\" in /usr/local/lib/python3.6/dist-packages (from tensorflow-gpu==2.1.0->-r requirements-gpu.txt (line 1)) (1.4.1)\n",
            "Requirement already satisfied: absl-py>=0.7.0 in /usr/local/lib/python3.6/dist-packages (from tensorflow-gpu==2.1.0->-r requirements-gpu.txt (line 1)) (0.10.0)\n",
            "Requirement already satisfied: opt-einsum>=2.3.2 in /usr/local/lib/python3.6/dist-packages (from tensorflow-gpu==2.1.0->-r requirements-gpu.txt (line 1)) (3.3.0)\n",
            "Requirement already satisfied: astor>=0.6.0 in /usr/local/lib/python3.6/dist-packages (from tensorflow-gpu==2.1.0->-r requirements-gpu.txt (line 1)) (0.8.1)\n",
            "Requirement already satisfied: six>=1.12.0 in /usr/local/lib/python3.6/dist-packages (from tensorflow-gpu==2.1.0->-r requirements-gpu.txt (line 1)) (1.15.0)\n",
            "Requirement already satisfied: matplotlib>=2.2 in /usr/local/lib/python3.6/dist-packages (from seaborn->-r requirements-gpu.txt (line 6)) (3.2.2)\n",
            "Requirement already satisfied: pandas>=0.23 in /usr/local/lib/python3.6/dist-packages (from seaborn->-r requirements-gpu.txt (line 6)) (1.1.4)\n",
            "Requirement already satisfied: setuptools in /usr/local/lib/python3.6/dist-packages (from protobuf>=3.8.0->tensorflow-gpu==2.1.0->-r requirements-gpu.txt (line 1)) (50.3.2)\n",
            "Requirement already satisfied: google-auth-oauthlib<0.5,>=0.4.1 in /usr/local/lib/python3.6/dist-packages (from tensorboard<2.2.0,>=2.1.0->tensorflow-gpu==2.1.0->-r requirements-gpu.txt (line 1)) (0.4.2)\n",
            "Requirement already satisfied: google-auth<2,>=1.6.3 in /usr/local/lib/python3.6/dist-packages (from tensorboard<2.2.0,>=2.1.0->tensorflow-gpu==2.1.0->-r requirements-gpu.txt (line 1)) (1.17.2)\n",
            "Requirement already satisfied: markdown>=2.6.8 in /usr/local/lib/python3.6/dist-packages (from tensorboard<2.2.0,>=2.1.0->tensorflow-gpu==2.1.0->-r requirements-gpu.txt (line 1)) (3.3.3)\n",
            "Requirement already satisfied: requests<3,>=2.21.0 in /usr/local/lib/python3.6/dist-packages (from tensorboard<2.2.0,>=2.1.0->tensorflow-gpu==2.1.0->-r requirements-gpu.txt (line 1)) (2.23.0)\n",
            "Requirement already satisfied: werkzeug>=0.11.15 in /usr/local/lib/python3.6/dist-packages (from tensorboard<2.2.0,>=2.1.0->tensorflow-gpu==2.1.0->-r requirements-gpu.txt (line 1)) (1.0.1)\n",
            "Requirement already satisfied: h5py in /usr/local/lib/python3.6/dist-packages (from keras-applications>=1.0.8->tensorflow-gpu==2.1.0->-r requirements-gpu.txt (line 1)) (2.10.0)\n",
            "Requirement already satisfied: kiwisolver>=1.0.1 in /usr/local/lib/python3.6/dist-packages (from matplotlib>=2.2->seaborn->-r requirements-gpu.txt (line 6)) (1.3.1)\n",
            "Requirement already satisfied: cycler>=0.10 in /usr/local/lib/python3.6/dist-packages (from matplotlib>=2.2->seaborn->-r requirements-gpu.txt (line 6)) (0.10.0)\n",
            "Requirement already satisfied: pyparsing!=2.0.4,!=2.1.2,!=2.1.6,>=2.0.1 in /usr/local/lib/python3.6/dist-packages (from matplotlib>=2.2->seaborn->-r requirements-gpu.txt (line 6)) (2.4.7)\n",
            "Requirement already satisfied: python-dateutil>=2.1 in /usr/local/lib/python3.6/dist-packages (from matplotlib>=2.2->seaborn->-r requirements-gpu.txt (line 6)) (2.8.1)\n",
            "Requirement already satisfied: pytz>=2017.2 in /usr/local/lib/python3.6/dist-packages (from pandas>=0.23->seaborn->-r requirements-gpu.txt (line 6)) (2018.9)\n",
            "Requirement already satisfied: requests-oauthlib>=0.7.0 in /usr/local/lib/python3.6/dist-packages (from google-auth-oauthlib<0.5,>=0.4.1->tensorboard<2.2.0,>=2.1.0->tensorflow-gpu==2.1.0->-r requirements-gpu.txt (line 1)) (1.3.0)\n",
            "Requirement already satisfied: cachetools<5.0,>=2.0.0 in /usr/local/lib/python3.6/dist-packages (from google-auth<2,>=1.6.3->tensorboard<2.2.0,>=2.1.0->tensorflow-gpu==2.1.0->-r requirements-gpu.txt (line 1)) (4.1.1)\n",
            "Requirement already satisfied: pyasn1-modules>=0.2.1 in /usr/local/lib/python3.6/dist-packages (from google-auth<2,>=1.6.3->tensorboard<2.2.0,>=2.1.0->tensorflow-gpu==2.1.0->-r requirements-gpu.txt (line 1)) (0.2.8)\n",
            "Requirement already satisfied: rsa<5,>=3.1.4; python_version >= \"3\" in /usr/local/lib/python3.6/dist-packages (from google-auth<2,>=1.6.3->tensorboard<2.2.0,>=2.1.0->tensorflow-gpu==2.1.0->-r requirements-gpu.txt (line 1)) (4.6)\n",
            "Requirement already satisfied: importlib-metadata; python_version < \"3.8\" in /usr/local/lib/python3.6/dist-packages (from markdown>=2.6.8->tensorboard<2.2.0,>=2.1.0->tensorflow-gpu==2.1.0->-r requirements-gpu.txt (line 1)) (2.0.0)\n",
            "Requirement already satisfied: chardet<4,>=3.0.2 in /usr/local/lib/python3.6/dist-packages (from requests<3,>=2.21.0->tensorboard<2.2.0,>=2.1.0->tensorflow-gpu==2.1.0->-r requirements-gpu.txt (line 1)) (3.0.4)\n",
            "Requirement already satisfied: urllib3!=1.25.0,!=1.25.1,<1.26,>=1.21.1 in /usr/local/lib/python3.6/dist-packages (from requests<3,>=2.21.0->tensorboard<2.2.0,>=2.1.0->tensorflow-gpu==2.1.0->-r requirements-gpu.txt (line 1)) (1.24.3)\n",
            "Requirement already satisfied: certifi>=2017.4.17 in /usr/local/lib/python3.6/dist-packages (from requests<3,>=2.21.0->tensorboard<2.2.0,>=2.1.0->tensorflow-gpu==2.1.0->-r requirements-gpu.txt (line 1)) (2020.6.20)\n",
            "Requirement already satisfied: idna<3,>=2.5 in /usr/local/lib/python3.6/dist-packages (from requests<3,>=2.21.0->tensorboard<2.2.0,>=2.1.0->tensorflow-gpu==2.1.0->-r requirements-gpu.txt (line 1)) (2.10)\n",
            "Requirement already satisfied: oauthlib>=3.0.0 in /usr/local/lib/python3.6/dist-packages (from requests-oauthlib>=0.7.0->google-auth-oauthlib<0.5,>=0.4.1->tensorboard<2.2.0,>=2.1.0->tensorflow-gpu==2.1.0->-r requirements-gpu.txt (line 1)) (3.1.0)\n",
            "Requirement already satisfied: pyasn1<0.5.0,>=0.4.6 in /usr/local/lib/python3.6/dist-packages (from pyasn1-modules>=0.2.1->google-auth<2,>=1.6.3->tensorboard<2.2.0,>=2.1.0->tensorflow-gpu==2.1.0->-r requirements-gpu.txt (line 1)) (0.4.8)\n",
            "Requirement already satisfied: zipp>=0.5 in /usr/local/lib/python3.6/dist-packages (from importlib-metadata; python_version < \"3.8\"->markdown>=2.6.8->tensorboard<2.2.0,>=2.1.0->tensorflow-gpu==2.1.0->-r requirements-gpu.txt (line 1)) (3.4.0)\n",
            "Building wheels for collected packages: gast\n",
            "  Building wheel for gast (setup.py) ... \u001b[?25l\u001b[?25hdone\n",
            "  Created wheel for gast: filename=gast-0.2.2-cp36-none-any.whl size=7542 sha256=07712853b6b390031eec48c83326e67298141cb7ea81b5d8335192bdcb6cec94\n",
            "  Stored in directory: /root/.cache/pip/wheels/5c/2e/7e/a1d4d4fcebe6c381f378ce7743a3ced3699feb89bcfbdadadd\n",
            "Successfully built gast\n",
            "\u001b[31mERROR: tensorflow 2.3.0 has requirement gast==0.3.3, but you'll have gast 0.2.2 which is incompatible.\u001b[0m\n",
            "\u001b[31mERROR: tensorflow 2.3.0 has requirement tensorboard<3,>=2.3.0, but you'll have tensorboard 2.1.1 which is incompatible.\u001b[0m\n",
            "\u001b[31mERROR: tensorflow 2.3.0 has requirement tensorflow-estimator<2.4.0,>=2.3.0, but you'll have tensorflow-estimator 2.1.0 which is incompatible.\u001b[0m\n",
            "\u001b[31mERROR: tensorflow-probability 0.11.0 has requirement gast>=0.3.2, but you'll have gast 0.2.2 which is incompatible.\u001b[0m\n",
            "\u001b[31mERROR: albumentations 0.1.12 has requirement imgaug<0.2.7,>=0.2.5, but you'll have imgaug 0.2.9 which is incompatible.\u001b[0m\n",
            "Installing collected packages: tensorflow-estimator, gast, tensorboard, keras-applications, tensorflow-gpu, opencv-python\n",
            "  Found existing installation: tensorflow-estimator 2.3.0\n",
            "    Uninstalling tensorflow-estimator-2.3.0:\n",
            "      Successfully uninstalled tensorflow-estimator-2.3.0\n",
            "  Found existing installation: gast 0.3.3\n",
            "    Uninstalling gast-0.3.3:\n",
            "      Successfully uninstalled gast-0.3.3\n",
            "  Found existing installation: tensorboard 2.3.0\n",
            "    Uninstalling tensorboard-2.3.0:\n",
            "      Successfully uninstalled tensorboard-2.3.0\n",
            "  Found existing installation: opencv-python 4.1.2.30\n",
            "    Uninstalling opencv-python-4.1.2.30:\n",
            "      Successfully uninstalled opencv-python-4.1.2.30\n",
            "Successfully installed gast-0.2.2 keras-applications-1.0.8 opencv-python-4.1.1.26 tensorboard-2.1.1 tensorflow-estimator-2.1.0 tensorflow-gpu-2.1.0\n"
          ],
          "name": "stdout"
        },
        {
          "output_type": "display_data",
          "data": {
            "application/vnd.colab-display-data+json": {
              "pip_warning": {
                "packages": [
                  "cv2"
                ]
              }
            }
          },
          "metadata": {
            "tags": []
          }
        },
        {
          "output_type": "stream",
          "text": [
            "All Requirements were installed!\n"
          ],
          "name": "stdout"
        }
      ]
    },
    {
      "cell_type": "markdown",
      "metadata": {
        "id": "sluA7ZDgHOqc"
      },
      "source": [
        "We need to also download the weight files, that are not on the repository (this will take several minutes, ~30min)"
      ]
    },
    {
      "cell_type": "code",
      "metadata": {
        "id": "KXT4LxSeHOqf",
        "outputId": "d44af278-8127-4ec9-ca97-37a0df0feb84",
        "colab": {
          "base_uri": "https://localhost:8080/"
        }
      },
      "source": [
        "#Downloading the weigts\n",
        "!wget https://pjreddie.com/media/files/yolov3.weights -O weights/yolov3.weights"
      ],
      "execution_count": 5,
      "outputs": [
        {
          "output_type": "stream",
          "text": [
            "--2020-11-10 02:11:01--  https://pjreddie.com/media/files/yolov3.weights\n",
            "Resolving pjreddie.com (pjreddie.com)... 128.208.4.108\n",
            "Connecting to pjreddie.com (pjreddie.com)|128.208.4.108|:443... connected.\n",
            "HTTP request sent, awaiting response... 200 OK\n",
            "Length: 248007048 (237M) [application/octet-stream]\n",
            "Saving to: ‘weights/yolov3.weights’\n",
            "\n",
            "weights/yolov3.weig 100%[===================>] 236.52M  42.7KB/s    in 72m 53s \n",
            "\n",
            "2020-11-10 03:23:56 (55.4 KB/s) - ‘weights/yolov3.weights’ saved [248007048/248007048]\n",
            "\n"
          ],
          "name": "stdout"
        }
      ]
    },
    {
      "cell_type": "markdown",
      "metadata": {
        "id": "-01ZuGy22yVh"
      },
      "source": [
        "**Loading the weight files** "
      ]
    },
    {
      "cell_type": "code",
      "metadata": {
        "id": "kdjlenpF28Bo",
        "outputId": "8f4c6018-86ba-4a83-a8a3-9e5e4a03fc2b",
        "colab": {
          "base_uri": "https://localhost:8080/"
        }
      },
      "source": [
        "# yolov3\n",
        "!python load_weights.py\n",
        "#clear_output()\n",
        "print(\"Weights were loaded!\")"
      ],
      "execution_count": 6,
      "outputs": [
        {
          "output_type": "stream",
          "text": [
            "2020-11-10 03:23:58.038965: W tensorflow/stream_executor/platform/default/dso_loader.cc:55] Could not load dynamic library 'libnvinfer.so.6'; dlerror: libnvinfer.so.6: cannot open shared object file: No such file or directory; LD_LIBRARY_PATH: /usr/lib64-nvidia\n",
            "2020-11-10 03:23:58.039122: W tensorflow/stream_executor/platform/default/dso_loader.cc:55] Could not load dynamic library 'libnvinfer_plugin.so.6'; dlerror: libnvinfer_plugin.so.6: cannot open shared object file: No such file or directory; LD_LIBRARY_PATH: /usr/lib64-nvidia\n",
            "2020-11-10 03:23:58.039142: W tensorflow/compiler/tf2tensorrt/utils/py_utils.cc:30] Cannot dlopen some TensorRT libraries. If you would like to use Nvidia GPU with TensorRT, please make sure the missing libraries mentioned above are installed properly.\n",
            "2020-11-10 03:23:59.732549: I tensorflow/stream_executor/platform/default/dso_loader.cc:44] Successfully opened dynamic library libcuda.so.1\n",
            "2020-11-10 03:23:59.792325: I tensorflow/stream_executor/cuda/cuda_gpu_executor.cc:981] successful NUMA node read from SysFS had negative value (-1), but there must be at least one NUMA node, so returning NUMA node zero\n",
            "2020-11-10 03:23:59.792960: I tensorflow/core/common_runtime/gpu/gpu_device.cc:1555] Found device 0 with properties: \n",
            "pciBusID: 0000:00:04.0 name: Tesla T4 computeCapability: 7.5\n",
            "coreClock: 1.59GHz coreCount: 40 deviceMemorySize: 14.73GiB deviceMemoryBandwidth: 298.08GiB/s\n",
            "2020-11-10 03:23:59.793273: I tensorflow/stream_executor/platform/default/dso_loader.cc:44] Successfully opened dynamic library libcudart.so.10.1\n",
            "2020-11-10 03:23:59.982166: I tensorflow/stream_executor/platform/default/dso_loader.cc:44] Successfully opened dynamic library libcublas.so.10\n",
            "2020-11-10 03:24:00.139293: I tensorflow/stream_executor/platform/default/dso_loader.cc:44] Successfully opened dynamic library libcufft.so.10\n",
            "2020-11-10 03:24:00.153268: I tensorflow/stream_executor/platform/default/dso_loader.cc:44] Successfully opened dynamic library libcurand.so.10\n",
            "2020-11-10 03:24:00.441273: I tensorflow/stream_executor/platform/default/dso_loader.cc:44] Successfully opened dynamic library libcusolver.so.10\n",
            "2020-11-10 03:24:00.458165: I tensorflow/stream_executor/platform/default/dso_loader.cc:44] Successfully opened dynamic library libcusparse.so.10\n",
            "2020-11-10 03:24:00.972552: I tensorflow/stream_executor/platform/default/dso_loader.cc:44] Successfully opened dynamic library libcudnn.so.7\n",
            "2020-11-10 03:24:00.972807: I tensorflow/stream_executor/cuda/cuda_gpu_executor.cc:981] successful NUMA node read from SysFS had negative value (-1), but there must be at least one NUMA node, so returning NUMA node zero\n",
            "2020-11-10 03:24:00.973547: I tensorflow/stream_executor/cuda/cuda_gpu_executor.cc:981] successful NUMA node read from SysFS had negative value (-1), but there must be at least one NUMA node, so returning NUMA node zero\n",
            "2020-11-10 03:24:00.974177: I tensorflow/core/common_runtime/gpu/gpu_device.cc:1697] Adding visible gpu devices: 0\n",
            "2020-11-10 03:24:00.989262: I tensorflow/core/platform/cpu_feature_guard.cc:142] Your CPU supports instructions that this TensorFlow binary was not compiled to use: AVX2 FMA\n",
            "2020-11-10 03:24:00.994059: I tensorflow/core/platform/profile_utils/cpu_utils.cc:94] CPU Frequency: 2200000000 Hz\n",
            "2020-11-10 03:24:00.994282: I tensorflow/compiler/xla/service/service.cc:168] XLA service 0x2dca840 initialized for platform Host (this does not guarantee that XLA will be used). Devices:\n",
            "2020-11-10 03:24:00.994311: I tensorflow/compiler/xla/service/service.cc:176]   StreamExecutor device (0): Host, Default Version\n",
            "2020-11-10 03:24:01.122780: I tensorflow/stream_executor/cuda/cuda_gpu_executor.cc:981] successful NUMA node read from SysFS had negative value (-1), but there must be at least one NUMA node, so returning NUMA node zero\n",
            "2020-11-10 03:24:01.123477: I tensorflow/compiler/xla/service/service.cc:168] XLA service 0x2dca680 initialized for platform CUDA (this does not guarantee that XLA will be used). Devices:\n",
            "2020-11-10 03:24:01.123506: I tensorflow/compiler/xla/service/service.cc:176]   StreamExecutor device (0): Tesla T4, Compute Capability 7.5\n",
            "2020-11-10 03:24:01.124363: I tensorflow/stream_executor/cuda/cuda_gpu_executor.cc:981] successful NUMA node read from SysFS had negative value (-1), but there must be at least one NUMA node, so returning NUMA node zero\n",
            "2020-11-10 03:24:01.124858: I tensorflow/core/common_runtime/gpu/gpu_device.cc:1555] Found device 0 with properties: \n",
            "pciBusID: 0000:00:04.0 name: Tesla T4 computeCapability: 7.5\n",
            "coreClock: 1.59GHz coreCount: 40 deviceMemorySize: 14.73GiB deviceMemoryBandwidth: 298.08GiB/s\n",
            "2020-11-10 03:24:01.124943: I tensorflow/stream_executor/platform/default/dso_loader.cc:44] Successfully opened dynamic library libcudart.so.10.1\n",
            "2020-11-10 03:24:01.124979: I tensorflow/stream_executor/platform/default/dso_loader.cc:44] Successfully opened dynamic library libcublas.so.10\n",
            "2020-11-10 03:24:01.125002: I tensorflow/stream_executor/platform/default/dso_loader.cc:44] Successfully opened dynamic library libcufft.so.10\n",
            "2020-11-10 03:24:01.125023: I tensorflow/stream_executor/platform/default/dso_loader.cc:44] Successfully opened dynamic library libcurand.so.10\n",
            "2020-11-10 03:24:01.125047: I tensorflow/stream_executor/platform/default/dso_loader.cc:44] Successfully opened dynamic library libcusolver.so.10\n",
            "2020-11-10 03:24:01.125066: I tensorflow/stream_executor/platform/default/dso_loader.cc:44] Successfully opened dynamic library libcusparse.so.10\n",
            "2020-11-10 03:24:01.125085: I tensorflow/stream_executor/platform/default/dso_loader.cc:44] Successfully opened dynamic library libcudnn.so.7\n",
            "2020-11-10 03:24:01.125159: I tensorflow/stream_executor/cuda/cuda_gpu_executor.cc:981] successful NUMA node read from SysFS had negative value (-1), but there must be at least one NUMA node, so returning NUMA node zero\n",
            "2020-11-10 03:24:01.125686: I tensorflow/stream_executor/cuda/cuda_gpu_executor.cc:981] successful NUMA node read from SysFS had negative value (-1), but there must be at least one NUMA node, so returning NUMA node zero\n",
            "2020-11-10 03:24:01.126213: I tensorflow/core/common_runtime/gpu/gpu_device.cc:1697] Adding visible gpu devices: 0\n",
            "2020-11-10 03:24:01.126278: I tensorflow/stream_executor/platform/default/dso_loader.cc:44] Successfully opened dynamic library libcudart.so.10.1\n",
            "2020-11-10 03:24:01.127715: I tensorflow/core/common_runtime/gpu/gpu_device.cc:1096] Device interconnect StreamExecutor with strength 1 edge matrix:\n",
            "2020-11-10 03:24:01.127745: I tensorflow/core/common_runtime/gpu/gpu_device.cc:1102]      0 \n",
            "2020-11-10 03:24:01.127755: I tensorflow/core/common_runtime/gpu/gpu_device.cc:1115] 0:   N \n",
            "2020-11-10 03:24:01.127863: I tensorflow/stream_executor/cuda/cuda_gpu_executor.cc:981] successful NUMA node read from SysFS had negative value (-1), but there must be at least one NUMA node, so returning NUMA node zero\n",
            "2020-11-10 03:24:01.128424: I tensorflow/stream_executor/cuda/cuda_gpu_executor.cc:981] successful NUMA node read from SysFS had negative value (-1), but there must be at least one NUMA node, so returning NUMA node zero\n",
            "2020-11-10 03:24:01.128940: I tensorflow/core/common_runtime/gpu/gpu_device.cc:1241] Created TensorFlow device (/job:localhost/replica:0/task:0/device:GPU:0 with 14221 MB memory) -> physical GPU (device: 0, name: Tesla T4, pci bus id: 0000:00:04.0, compute capability: 7.5)\n",
            "Model: \"yolov3\"\n",
            "__________________________________________________________________________________________________\n",
            "Layer (type)                    Output Shape         Param #     Connected to                     \n",
            "==================================================================================================\n",
            "input (InputLayer)              [(None, None, None,  0                                            \n",
            "__________________________________________________________________________________________________\n",
            "yolo_darknet (Model)            ((None, None, None,  40620640    input[0][0]                      \n",
            "__________________________________________________________________________________________________\n",
            "yolo_conv_0 (Model)             (None, None, None, 5 11024384    yolo_darknet[1][2]               \n",
            "__________________________________________________________________________________________________\n",
            "yolo_conv_1 (Model)             (None, None, None, 2 2957312     yolo_conv_0[1][0]                \n",
            "                                                                 yolo_darknet[1][1]               \n",
            "__________________________________________________________________________________________________\n",
            "yolo_conv_2 (Model)             (None, None, None, 1 741376      yolo_conv_1[1][0]                \n",
            "                                                                 yolo_darknet[1][0]               \n",
            "__________________________________________________________________________________________________\n",
            "yolo_output_0 (Model)           (None, None, None, 3 4984063     yolo_conv_0[1][0]                \n",
            "__________________________________________________________________________________________________\n",
            "yolo_output_1 (Model)           (None, None, None, 3 1312511     yolo_conv_1[1][0]                \n",
            "__________________________________________________________________________________________________\n",
            "yolo_output_2 (Model)           (None, None, None, 3 361471      yolo_conv_2[1][0]                \n",
            "__________________________________________________________________________________________________\n",
            "yolo_boxes_0 (Lambda)           ((None, None, None,  0           yolo_output_0[1][0]              \n",
            "__________________________________________________________________________________________________\n",
            "yolo_boxes_1 (Lambda)           ((None, None, None,  0           yolo_output_1[1][0]              \n",
            "__________________________________________________________________________________________________\n",
            "yolo_boxes_2 (Lambda)           ((None, None, None,  0           yolo_output_2[1][0]              \n",
            "__________________________________________________________________________________________________\n",
            "yolo_nms (Lambda)               ((None, 100, 4), (No 0           yolo_boxes_0[0][0]               \n",
            "                                                                 yolo_boxes_0[0][1]               \n",
            "                                                                 yolo_boxes_0[0][2]               \n",
            "                                                                 yolo_boxes_1[0][0]               \n",
            "                                                                 yolo_boxes_1[0][1]               \n",
            "                                                                 yolo_boxes_1[0][2]               \n",
            "                                                                 yolo_boxes_2[0][0]               \n",
            "                                                                 yolo_boxes_2[0][1]               \n",
            "                                                                 yolo_boxes_2[0][2]               \n",
            "==================================================================================================\n",
            "Total params: 62,001,757\n",
            "Trainable params: 61,949,149\n",
            "Non-trainable params: 52,608\n",
            "__________________________________________________________________________________________________\n",
            "I1110 03:24:06.610629 139852746704768 load_weights.py:19] model created\n",
            "I1110 03:24:06.612577 139852746704768 utils.py:47] yolo_darknet/conv2d bn\n",
            "I1110 03:24:06.616012 139852746704768 utils.py:47] yolo_darknet/conv2d_1 bn\n",
            "I1110 03:24:06.619464 139852746704768 utils.py:47] yolo_darknet/conv2d_2 bn\n",
            "I1110 03:24:06.622568 139852746704768 utils.py:47] yolo_darknet/conv2d_3 bn\n",
            "I1110 03:24:06.625511 139852746704768 utils.py:47] yolo_darknet/conv2d_4 bn\n",
            "I1110 03:24:06.628786 139852746704768 utils.py:47] yolo_darknet/conv2d_5 bn\n",
            "I1110 03:24:06.631419 139852746704768 utils.py:47] yolo_darknet/conv2d_6 bn\n",
            "I1110 03:24:06.634394 139852746704768 utils.py:47] yolo_darknet/conv2d_7 bn\n",
            "I1110 03:24:06.637150 139852746704768 utils.py:47] yolo_darknet/conv2d_8 bn\n",
            "I1110 03:24:06.640130 139852746704768 utils.py:47] yolo_darknet/conv2d_9 bn\n",
            "I1110 03:24:06.644867 139852746704768 utils.py:47] yolo_darknet/conv2d_10 bn\n",
            "I1110 03:24:06.647697 139852746704768 utils.py:47] yolo_darknet/conv2d_11 bn\n",
            "I1110 03:24:06.651978 139852746704768 utils.py:47] yolo_darknet/conv2d_12 bn\n",
            "I1110 03:24:06.654944 139852746704768 utils.py:47] yolo_darknet/conv2d_13 bn\n",
            "I1110 03:24:06.659623 139852746704768 utils.py:47] yolo_darknet/conv2d_14 bn\n",
            "I1110 03:24:06.662237 139852746704768 utils.py:47] yolo_darknet/conv2d_15 bn\n",
            "I1110 03:24:06.666127 139852746704768 utils.py:47] yolo_darknet/conv2d_16 bn\n",
            "I1110 03:24:06.668853 139852746704768 utils.py:47] yolo_darknet/conv2d_17 bn\n",
            "I1110 03:24:06.672925 139852746704768 utils.py:47] yolo_darknet/conv2d_18 bn\n",
            "I1110 03:24:06.675735 139852746704768 utils.py:47] yolo_darknet/conv2d_19 bn\n",
            "I1110 03:24:06.679773 139852746704768 utils.py:47] yolo_darknet/conv2d_20 bn\n",
            "I1110 03:24:06.682540 139852746704768 utils.py:47] yolo_darknet/conv2d_21 bn\n",
            "I1110 03:24:06.686682 139852746704768 utils.py:47] yolo_darknet/conv2d_22 bn\n",
            "I1110 03:24:06.689367 139852746704768 utils.py:47] yolo_darknet/conv2d_23 bn\n",
            "I1110 03:24:06.693220 139852746704768 utils.py:47] yolo_darknet/conv2d_24 bn\n",
            "I1110 03:24:06.695974 139852746704768 utils.py:47] yolo_darknet/conv2d_25 bn\n",
            "I1110 03:24:06.699954 139852746704768 utils.py:47] yolo_darknet/conv2d_26 bn\n",
            "I1110 03:24:06.710111 139852746704768 utils.py:47] yolo_darknet/conv2d_27 bn\n",
            "I1110 03:24:06.713392 139852746704768 utils.py:47] yolo_darknet/conv2d_28 bn\n",
            "I1110 03:24:06.721504 139852746704768 utils.py:47] yolo_darknet/conv2d_29 bn\n",
            "I1110 03:24:06.725008 139852746704768 utils.py:47] yolo_darknet/conv2d_30 bn\n",
            "I1110 03:24:06.732896 139852746704768 utils.py:47] yolo_darknet/conv2d_31 bn\n",
            "I1110 03:24:06.736167 139852746704768 utils.py:47] yolo_darknet/conv2d_32 bn\n",
            "I1110 03:24:06.743993 139852746704768 utils.py:47] yolo_darknet/conv2d_33 bn\n",
            "I1110 03:24:06.747334 139852746704768 utils.py:47] yolo_darknet/conv2d_34 bn\n",
            "I1110 03:24:06.755488 139852746704768 utils.py:47] yolo_darknet/conv2d_35 bn\n",
            "I1110 03:24:06.759151 139852746704768 utils.py:47] yolo_darknet/conv2d_36 bn\n",
            "I1110 03:24:06.766870 139852746704768 utils.py:47] yolo_darknet/conv2d_37 bn\n",
            "I1110 03:24:06.770200 139852746704768 utils.py:47] yolo_darknet/conv2d_38 bn\n",
            "I1110 03:24:06.778158 139852746704768 utils.py:47] yolo_darknet/conv2d_39 bn\n",
            "I1110 03:24:06.781369 139852746704768 utils.py:47] yolo_darknet/conv2d_40 bn\n",
            "I1110 03:24:06.789005 139852746704768 utils.py:47] yolo_darknet/conv2d_41 bn\n",
            "I1110 03:24:06.792205 139852746704768 utils.py:47] yolo_darknet/conv2d_42 bn\n",
            "I1110 03:24:06.799927 139852746704768 utils.py:47] yolo_darknet/conv2d_43 bn\n",
            "I1110 03:24:06.835908 139852746704768 utils.py:47] yolo_darknet/conv2d_44 bn\n",
            "I1110 03:24:06.842847 139852746704768 utils.py:47] yolo_darknet/conv2d_45 bn\n",
            "I1110 03:24:06.877381 139852746704768 utils.py:47] yolo_darknet/conv2d_46 bn\n",
            "I1110 03:24:06.883931 139852746704768 utils.py:47] yolo_darknet/conv2d_47 bn\n",
            "I1110 03:24:06.913601 139852746704768 utils.py:47] yolo_darknet/conv2d_48 bn\n",
            "I1110 03:24:06.919966 139852746704768 utils.py:47] yolo_darknet/conv2d_49 bn\n",
            "I1110 03:24:06.952464 139852746704768 utils.py:47] yolo_darknet/conv2d_50 bn\n",
            "I1110 03:24:06.959013 139852746704768 utils.py:47] yolo_darknet/conv2d_51 bn\n",
            "I1110 03:24:06.988040 139852746704768 utils.py:47] yolo_conv_0/conv2d_52 bn\n",
            "I1110 03:24:06.993686 139852746704768 utils.py:47] yolo_conv_0/conv2d_53 bn\n",
            "I1110 03:24:07.022744 139852746704768 utils.py:47] yolo_conv_0/conv2d_54 bn\n",
            "I1110 03:24:07.028442 139852746704768 utils.py:47] yolo_conv_0/conv2d_55 bn\n",
            "I1110 03:24:07.059460 139852746704768 utils.py:47] yolo_conv_0/conv2d_56 bn\n",
            "I1110 03:24:07.065040 139852746704768 utils.py:47] yolo_output_0/conv2d_57 bn\n",
            "I1110 03:24:07.093408 139852746704768 utils.py:47] yolo_output_0/conv2d_58 bias\n",
            "I1110 03:24:07.096009 139852746704768 utils.py:47] yolo_conv_1/conv2d_59 bn\n",
            "I1110 03:24:07.098401 139852746704768 utils.py:47] yolo_conv_1/conv2d_60 bn\n",
            "I1110 03:24:07.101179 139852746704768 utils.py:47] yolo_conv_1/conv2d_61 bn\n",
            "I1110 03:24:07.108433 139852746704768 utils.py:47] yolo_conv_1/conv2d_62 bn\n",
            "I1110 03:24:07.111006 139852746704768 utils.py:47] yolo_conv_1/conv2d_63 bn\n",
            "I1110 03:24:07.118650 139852746704768 utils.py:47] yolo_conv_1/conv2d_64 bn\n",
            "I1110 03:24:07.121281 139852746704768 utils.py:47] yolo_output_1/conv2d_65 bn\n",
            "I1110 03:24:07.128334 139852746704768 utils.py:47] yolo_output_1/conv2d_66 bias\n",
            "I1110 03:24:07.129969 139852746704768 utils.py:47] yolo_conv_2/conv2d_67 bn\n",
            "I1110 03:24:07.131998 139852746704768 utils.py:47] yolo_conv_2/conv2d_68 bn\n",
            "I1110 03:24:07.134050 139852746704768 utils.py:47] yolo_conv_2/conv2d_69 bn\n",
            "I1110 03:24:07.137246 139852746704768 utils.py:47] yolo_conv_2/conv2d_70 bn\n",
            "I1110 03:24:07.139360 139852746704768 utils.py:47] yolo_conv_2/conv2d_71 bn\n",
            "I1110 03:24:07.142754 139852746704768 utils.py:47] yolo_conv_2/conv2d_72 bn\n",
            "I1110 03:24:07.144872 139852746704768 utils.py:47] yolo_output_2/conv2d_73 bn\n",
            "I1110 03:24:07.148286 139852746704768 utils.py:47] yolo_output_2/conv2d_74 bias\n",
            "I1110 03:24:07.149523 139852746704768 load_weights.py:22] weights loaded\n",
            "2020-11-10 03:24:07.159970: I tensorflow/stream_executor/platform/default/dso_loader.cc:44] Successfully opened dynamic library libcudnn.so.7\n",
            "2020-11-10 03:24:12.120685: I tensorflow/stream_executor/platform/default/dso_loader.cc:44] Successfully opened dynamic library libcublas.so.10\n",
            "I1110 03:24:14.297671 139852746704768 load_weights.py:26] sanity check passed\n",
            "I1110 03:24:15.036824 139852746704768 load_weights.py:29] weights saved\n",
            "Weights were loaded!\n"
          ],
          "name": "stdout"
        }
      ]
    },
    {
      "cell_type": "markdown",
      "metadata": {
        "id": "P9Sc0WV63YXY"
      },
      "source": [
        "#**Runing the tracker**\n",
        "You can run the tracker setting the video input and the output path for the resulting video.\n",
        "\n",
        "Note: for this case the resulting video is allways going to be a .avi file.\n",
        "\n",
        "Everytime the tracker is excecuted it is going to create/update a \".json\" file containing:\n",
        "\n",
        "\n",
        "*   Frame: the number of frame where the detection is made from.\n",
        "*   Track_id: an identification given to every object detected in the video.\n",
        "*   Class: the class of object detected.\n",
        "*   Center: this is going to be a set of coordinates x and y pointing to the center of the object detected in every case.\n",
        "*   Detection_box: this is a set of tow pairs of coordinates x and y, pointing to the starting and ending point for the rectangle drawned around every detection, this is going to be the next way (start_x, start_y,end_x,endy).\n"
      ]
    },
    {
      "cell_type": "markdown",
      "metadata": {
        "id": "YHsBSRAX0Vyy"
      },
      "source": [
        "In order to run your own video, you need to upload the video to the `Traffic_Accident_Detection/Yolov3_DeepSort/GPU/data/video` folder of your Google Drive and change the name in this code OR change the name of the video to `test.mp4`"
      ]
    },
    {
      "cell_type": "code",
      "metadata": {
        "id": "Of1vf_A13mal",
        "outputId": "63e647ae-fbf2-4b6f-94a0-4ab14006f83d",
        "colab": {
          "base_uri": "https://localhost:8080/"
        }
      },
      "source": [
        "# yolov3 on video\n",
        "!python object_tracker.py --video ./data/video/test.mp4 --output ./data/video/results.mp4\n",
        "#clear_output()\n",
        "print('''\n",
        "        Video object tracking is done, go to /data/video\n",
        "        to see the resulting video...\n",
        "''')"
      ],
      "execution_count": 7,
      "outputs": [
        {
          "output_type": "stream",
          "text": [
            "2020-11-10 03:24:18.021435: W tensorflow/stream_executor/platform/default/dso_loader.cc:55] Could not load dynamic library 'libnvinfer.so.6'; dlerror: libnvinfer.so.6: cannot open shared object file: No such file or directory; LD_LIBRARY_PATH: /usr/lib64-nvidia\n",
            "2020-11-10 03:24:18.021561: W tensorflow/stream_executor/platform/default/dso_loader.cc:55] Could not load dynamic library 'libnvinfer_plugin.so.6'; dlerror: libnvinfer_plugin.so.6: cannot open shared object file: No such file or directory; LD_LIBRARY_PATH: /usr/lib64-nvidia\n",
            "2020-11-10 03:24:18.021586: W tensorflow/compiler/tf2tensorrt/utils/py_utils.cc:30] Cannot dlopen some TensorRT libraries. If you would like to use Nvidia GPU with TensorRT, please make sure the missing libraries mentioned above are installed properly.\n",
            "2020-11-10 03:24:19.136942: I tensorflow/stream_executor/platform/default/dso_loader.cc:44] Successfully opened dynamic library libcuda.so.1\n",
            "2020-11-10 03:24:19.172386: I tensorflow/stream_executor/cuda/cuda_gpu_executor.cc:981] successful NUMA node read from SysFS had negative value (-1), but there must be at least one NUMA node, so returning NUMA node zero\n",
            "2020-11-10 03:24:19.172952: I tensorflow/core/common_runtime/gpu/gpu_device.cc:1555] Found device 0 with properties: \n",
            "pciBusID: 0000:00:04.0 name: Tesla T4 computeCapability: 7.5\n",
            "coreClock: 1.59GHz coreCount: 40 deviceMemorySize: 14.73GiB deviceMemoryBandwidth: 298.08GiB/s\n",
            "2020-11-10 03:24:19.173222: I tensorflow/stream_executor/platform/default/dso_loader.cc:44] Successfully opened dynamic library libcudart.so.10.1\n",
            "2020-11-10 03:24:19.175033: I tensorflow/stream_executor/platform/default/dso_loader.cc:44] Successfully opened dynamic library libcublas.so.10\n",
            "2020-11-10 03:24:19.176589: I tensorflow/stream_executor/platform/default/dso_loader.cc:44] Successfully opened dynamic library libcufft.so.10\n",
            "2020-11-10 03:24:19.176941: I tensorflow/stream_executor/platform/default/dso_loader.cc:44] Successfully opened dynamic library libcurand.so.10\n",
            "2020-11-10 03:24:19.181033: I tensorflow/stream_executor/platform/default/dso_loader.cc:44] Successfully opened dynamic library libcusolver.so.10\n",
            "2020-11-10 03:24:19.189139: I tensorflow/stream_executor/platform/default/dso_loader.cc:44] Successfully opened dynamic library libcusparse.so.10\n",
            "2020-11-10 03:24:19.195585: I tensorflow/stream_executor/platform/default/dso_loader.cc:44] Successfully opened dynamic library libcudnn.so.7\n",
            "2020-11-10 03:24:19.195711: I tensorflow/stream_executor/cuda/cuda_gpu_executor.cc:981] successful NUMA node read from SysFS had negative value (-1), but there must be at least one NUMA node, so returning NUMA node zero\n",
            "2020-11-10 03:24:19.196372: I tensorflow/stream_executor/cuda/cuda_gpu_executor.cc:981] successful NUMA node read from SysFS had negative value (-1), but there must be at least one NUMA node, so returning NUMA node zero\n",
            "2020-11-10 03:24:19.196963: I tensorflow/core/common_runtime/gpu/gpu_device.cc:1697] Adding visible gpu devices: 0\n",
            "2020-11-10 03:24:19.198407: I tensorflow/core/platform/cpu_feature_guard.cc:142] Your CPU supports instructions that this TensorFlow binary was not compiled to use: AVX2 FMA\n",
            "2020-11-10 03:24:19.203461: I tensorflow/core/platform/profile_utils/cpu_utils.cc:94] CPU Frequency: 2200000000 Hz\n",
            "2020-11-10 03:24:19.203658: I tensorflow/compiler/xla/service/service.cc:168] XLA service 0x2d30bc0 initialized for platform Host (this does not guarantee that XLA will be used). Devices:\n",
            "2020-11-10 03:24:19.203686: I tensorflow/compiler/xla/service/service.cc:176]   StreamExecutor device (0): Host, Default Version\n",
            "2020-11-10 03:24:19.299323: I tensorflow/stream_executor/cuda/cuda_gpu_executor.cc:981] successful NUMA node read from SysFS had negative value (-1), but there must be at least one NUMA node, so returning NUMA node zero\n",
            "2020-11-10 03:24:19.299971: I tensorflow/compiler/xla/service/service.cc:168] XLA service 0x2d30d80 initialized for platform CUDA (this does not guarantee that XLA will be used). Devices:\n",
            "2020-11-10 03:24:19.300001: I tensorflow/compiler/xla/service/service.cc:176]   StreamExecutor device (0): Tesla T4, Compute Capability 7.5\n",
            "2020-11-10 03:24:19.300173: I tensorflow/stream_executor/cuda/cuda_gpu_executor.cc:981] successful NUMA node read from SysFS had negative value (-1), but there must be at least one NUMA node, so returning NUMA node zero\n",
            "2020-11-10 03:24:19.300672: I tensorflow/core/common_runtime/gpu/gpu_device.cc:1555] Found device 0 with properties: \n",
            "pciBusID: 0000:00:04.0 name: Tesla T4 computeCapability: 7.5\n",
            "coreClock: 1.59GHz coreCount: 40 deviceMemorySize: 14.73GiB deviceMemoryBandwidth: 298.08GiB/s\n",
            "2020-11-10 03:24:19.300738: I tensorflow/stream_executor/platform/default/dso_loader.cc:44] Successfully opened dynamic library libcudart.so.10.1\n",
            "2020-11-10 03:24:19.300772: I tensorflow/stream_executor/platform/default/dso_loader.cc:44] Successfully opened dynamic library libcublas.so.10\n",
            "2020-11-10 03:24:19.300795: I tensorflow/stream_executor/platform/default/dso_loader.cc:44] Successfully opened dynamic library libcufft.so.10\n",
            "2020-11-10 03:24:19.300821: I tensorflow/stream_executor/platform/default/dso_loader.cc:44] Successfully opened dynamic library libcurand.so.10\n",
            "2020-11-10 03:24:19.300842: I tensorflow/stream_executor/platform/default/dso_loader.cc:44] Successfully opened dynamic library libcusolver.so.10\n",
            "2020-11-10 03:24:19.300861: I tensorflow/stream_executor/platform/default/dso_loader.cc:44] Successfully opened dynamic library libcusparse.so.10\n",
            "2020-11-10 03:24:19.300888: I tensorflow/stream_executor/platform/default/dso_loader.cc:44] Successfully opened dynamic library libcudnn.so.7\n",
            "2020-11-10 03:24:19.300990: I tensorflow/stream_executor/cuda/cuda_gpu_executor.cc:981] successful NUMA node read from SysFS had negative value (-1), but there must be at least one NUMA node, so returning NUMA node zero\n",
            "2020-11-10 03:24:19.301577: I tensorflow/stream_executor/cuda/cuda_gpu_executor.cc:981] successful NUMA node read from SysFS had negative value (-1), but there must be at least one NUMA node, so returning NUMA node zero\n",
            "2020-11-10 03:24:19.302101: I tensorflow/core/common_runtime/gpu/gpu_device.cc:1697] Adding visible gpu devices: 0\n",
            "2020-11-10 03:24:19.302185: I tensorflow/stream_executor/platform/default/dso_loader.cc:44] Successfully opened dynamic library libcudart.so.10.1\n",
            "2020-11-10 03:24:19.303345: I tensorflow/core/common_runtime/gpu/gpu_device.cc:1096] Device interconnect StreamExecutor with strength 1 edge matrix:\n",
            "2020-11-10 03:24:19.303373: I tensorflow/core/common_runtime/gpu/gpu_device.cc:1102]      0 \n",
            "2020-11-10 03:24:19.303383: I tensorflow/core/common_runtime/gpu/gpu_device.cc:1115] 0:   N \n",
            "2020-11-10 03:24:19.303494: I tensorflow/stream_executor/cuda/cuda_gpu_executor.cc:981] successful NUMA node read from SysFS had negative value (-1), but there must be at least one NUMA node, so returning NUMA node zero\n",
            "2020-11-10 03:24:19.304076: I tensorflow/stream_executor/cuda/cuda_gpu_executor.cc:981] successful NUMA node read from SysFS had negative value (-1), but there must be at least one NUMA node, so returning NUMA node zero\n",
            "2020-11-10 03:24:19.304573: I tensorflow/core/common_runtime/gpu/gpu_device.cc:1241] Created TensorFlow device (/job:localhost/replica:0/task:0/device:GPU:0 with 14221 MB memory) -> physical GPU (device: 0, name: Tesla T4, pci bus id: 0000:00:04.0, compute capability: 7.5)\n",
            "2020-11-10 03:24:19.509604: I tensorflow/stream_executor/cuda/cuda_gpu_executor.cc:981] successful NUMA node read from SysFS had negative value (-1), but there must be at least one NUMA node, so returning NUMA node zero\n",
            "2020-11-10 03:24:19.510274: I tensorflow/core/common_runtime/gpu/gpu_device.cc:1555] Found device 0 with properties: \n",
            "pciBusID: 0000:00:04.0 name: Tesla T4 computeCapability: 7.5\n",
            "coreClock: 1.59GHz coreCount: 40 deviceMemorySize: 14.73GiB deviceMemoryBandwidth: 298.08GiB/s\n",
            "2020-11-10 03:24:19.510366: I tensorflow/stream_executor/platform/default/dso_loader.cc:44] Successfully opened dynamic library libcudart.so.10.1\n",
            "2020-11-10 03:24:19.510395: I tensorflow/stream_executor/platform/default/dso_loader.cc:44] Successfully opened dynamic library libcublas.so.10\n",
            "2020-11-10 03:24:19.510421: I tensorflow/stream_executor/platform/default/dso_loader.cc:44] Successfully opened dynamic library libcufft.so.10\n",
            "2020-11-10 03:24:19.510449: I tensorflow/stream_executor/platform/default/dso_loader.cc:44] Successfully opened dynamic library libcurand.so.10\n",
            "2020-11-10 03:24:19.510474: I tensorflow/stream_executor/platform/default/dso_loader.cc:44] Successfully opened dynamic library libcusolver.so.10\n",
            "2020-11-10 03:24:19.510497: I tensorflow/stream_executor/platform/default/dso_loader.cc:44] Successfully opened dynamic library libcusparse.so.10\n",
            "2020-11-10 03:24:19.510521: I tensorflow/stream_executor/platform/default/dso_loader.cc:44] Successfully opened dynamic library libcudnn.so.7\n",
            "2020-11-10 03:24:19.510629: I tensorflow/stream_executor/cuda/cuda_gpu_executor.cc:981] successful NUMA node read from SysFS had negative value (-1), but there must be at least one NUMA node, so returning NUMA node zero\n",
            "2020-11-10 03:24:19.511306: I tensorflow/stream_executor/cuda/cuda_gpu_executor.cc:981] successful NUMA node read from SysFS had negative value (-1), but there must be at least one NUMA node, so returning NUMA node zero\n",
            "2020-11-10 03:24:19.511837: I tensorflow/core/common_runtime/gpu/gpu_device.cc:1697] Adding visible gpu devices: 0\n",
            "2020-11-10 03:24:19.511890: I tensorflow/core/common_runtime/gpu/gpu_device.cc:1096] Device interconnect StreamExecutor with strength 1 edge matrix:\n",
            "2020-11-10 03:24:19.511905: I tensorflow/core/common_runtime/gpu/gpu_device.cc:1102]      0 \n",
            "2020-11-10 03:24:19.511927: I tensorflow/core/common_runtime/gpu/gpu_device.cc:1115] 0:   N \n",
            "2020-11-10 03:24:19.512029: I tensorflow/stream_executor/cuda/cuda_gpu_executor.cc:981] successful NUMA node read from SysFS had negative value (-1), but there must be at least one NUMA node, so returning NUMA node zero\n",
            "2020-11-10 03:24:19.512611: I tensorflow/stream_executor/cuda/cuda_gpu_executor.cc:981] successful NUMA node read from SysFS had negative value (-1), but there must be at least one NUMA node, so returning NUMA node zero\n",
            "2020-11-10 03:24:19.513174: I tensorflow/core/common_runtime/gpu/gpu_device.cc:1241] Created TensorFlow device (/job:localhost/replica:0/task:0/device:GPU:0 with 14221 MB memory) -> physical GPU (device: 0, name: Tesla T4, pci bus id: 0000:00:04.0, compute capability: 7.5)\n",
            "I1110 03:24:25.421884 140221078763392 object_tracker.py:56] weights loaded\n",
            "I1110 03:24:25.422400 140221078763392 object_tracker.py:59] classes loaded\n",
            "OpenCV: FFMPEG: tag 0x44495658/'XVID' is not supported with codec id 12 and format 'mp4 / MP4 (MPEG-4 Part 14)'\n",
            "OpenCV: FFMPEG: fallback to use tag 0x7634706d/'mp4v'\n",
            "2020-11-10 03:24:26.818955: I tensorflow/stream_executor/platform/default/dso_loader.cc:44] Successfully opened dynamic library libcudnn.so.7\n",
            "2020-11-10 03:24:28.547277: I tensorflow/stream_executor/platform/default/dso_loader.cc:44] Successfully opened dynamic library libcublas.so.10\n",
            "W1110 03:25:08.491015 140221078763392 object_tracker.py:85] Empty Frame\n",
            "W1110 03:25:08.592053 140221078763392 object_tracker.py:85] Empty Frame\n",
            "W1110 03:25:08.693154 140221078763392 object_tracker.py:85] Empty Frame\n",
            "Traceback (most recent call last):\n",
            "  File \"object_tracker.py\", line 182, in <module>\n",
            "    app.run(main)\n",
            "  File \"/usr/local/lib/python3.6/dist-packages/absl/app.py\", line 300, in run\n",
            "    _run_main(main, args)\n",
            "  File \"/usr/local/lib/python3.6/dist-packages/absl/app.py\", line 251, in _run_main\n",
            "    sys.exit(main(argv))\n",
            "  File \"object_tracker.py\", line 172, in main\n",
            "    if FLAGS.ouput:\n",
            "  File \"/usr/local/lib/python3.6/dist-packages/absl/flags/_flagvalues.py\", line 480, in __getattr__\n",
            "    raise AttributeError(name)\n",
            "AttributeError: ouput\n",
            "\n",
            "        Video object tracking is done, go to /data/video\n",
            "        to see the resulting video...\n",
            "\n"
          ],
          "name": "stdout"
        }
      ]
    },
    {
      "cell_type": "markdown",
      "metadata": {
        "id": "YEXNJUN-xMX0"
      },
      "source": [
        "Now you can see the output video. Since Google Collab does not easily allows to play video you can either download the video to your computer, see it from your Google Drive folder (if you enalbed that option) or see each frame of the video independently."
      ]
    },
    {
      "cell_type": "code",
      "metadata": {
        "id": "ZBRVbI2vxHop",
        "outputId": "33d1509e-8366-4144-e090-958725d75f77",
        "colab": {
          "base_uri": "https://localhost:8080/",
          "height": 72
        }
      },
      "source": [
        "%cd data/video\n",
        "\n",
        "Download_video_and_json= True #@param {type:\"boolean\"}\n",
        "\n",
        "if Download_video_and_json:\n",
        "    from google.colab import files\n",
        "    files.download('results.mp4') \n",
        "    %cd ..\n",
        "    %cd ..\n",
        "    files.download('info.json') \n",
        "else:\n",
        "    from google.colab.patches import cv2_imshow\n",
        "    import cv2\n",
        "\n",
        "    # Download sample video\n",
        "\n",
        "\n",
        "    cap = cv2.VideoCapture('results.mp4')\n",
        "    while cap.isOpened():\n",
        "        ret, image = cap.read()\n",
        "\n",
        "        if not ret:\n",
        "            break\n",
        "\n",
        "        cv2_imshow(image) # Note cv2_imshow, not cv2.imshow\n",
        "\n",
        "        cv2.waitKey(1) & 0xff\n",
        "\n",
        "    cv2.destroyAllWindows()\n",
        "    cap.release()"
      ],
      "execution_count": 22,
      "outputs": [
        {
          "output_type": "stream",
          "text": [
            "/content/Traffic_Accident_Detection/Yolov3_DeepSort/GPU/data/video\n"
          ],
          "name": "stdout"
        },
        {
          "output_type": "display_data",
          "data": {
            "application/javascript": [
              "\n",
              "    async function download(id, filename, size) {\n",
              "      if (!google.colab.kernel.accessAllowed) {\n",
              "        return;\n",
              "      }\n",
              "      const div = document.createElement('div');\n",
              "      const label = document.createElement('label');\n",
              "      label.textContent = `Downloading \"${filename}\": `;\n",
              "      div.appendChild(label);\n",
              "      const progress = document.createElement('progress');\n",
              "      progress.max = size;\n",
              "      div.appendChild(progress);\n",
              "      document.body.appendChild(div);\n",
              "\n",
              "      const buffers = [];\n",
              "      let downloaded = 0;\n",
              "\n",
              "      const channel = await google.colab.kernel.comms.open(id);\n",
              "      // Send a message to notify the kernel that we're ready.\n",
              "      channel.send({})\n",
              "\n",
              "      for await (const message of channel.messages) {\n",
              "        // Send a message to notify the kernel that we're ready.\n",
              "        channel.send({})\n",
              "        if (message.buffers) {\n",
              "          for (const buffer of message.buffers) {\n",
              "            buffers.push(buffer);\n",
              "            downloaded += buffer.byteLength;\n",
              "            progress.value = downloaded;\n",
              "          }\n",
              "        }\n",
              "      }\n",
              "      const blob = new Blob(buffers, {type: 'application/binary'});\n",
              "      const a = document.createElement('a');\n",
              "      a.href = window.URL.createObjectURL(blob);\n",
              "      a.download = filename;\n",
              "      div.appendChild(a);\n",
              "      a.click();\n",
              "      div.remove();\n",
              "    }\n",
              "  "
            ],
            "text/plain": [
              "<IPython.core.display.Javascript object>"
            ]
          },
          "metadata": {
            "tags": []
          }
        },
        {
          "output_type": "display_data",
          "data": {
            "application/javascript": [
              "download(\"download_00d9fb3b-ae8a-453e-b55c-fa8ef4dba504\", \"results.mp4\", 12452117)"
            ],
            "text/plain": [
              "<IPython.core.display.Javascript object>"
            ]
          },
          "metadata": {
            "tags": []
          }
        },
        {
          "output_type": "stream",
          "text": [
            "/content/Traffic_Accident_Detection/Yolov3_DeepSort/GPU/data\n",
            "/content/Traffic_Accident_Detection/Yolov3_DeepSort/GPU\n"
          ],
          "name": "stdout"
        },
        {
          "output_type": "display_data",
          "data": {
            "application/javascript": [
              "\n",
              "    async function download(id, filename, size) {\n",
              "      if (!google.colab.kernel.accessAllowed) {\n",
              "        return;\n",
              "      }\n",
              "      const div = document.createElement('div');\n",
              "      const label = document.createElement('label');\n",
              "      label.textContent = `Downloading \"${filename}\": `;\n",
              "      div.appendChild(label);\n",
              "      const progress = document.createElement('progress');\n",
              "      progress.max = size;\n",
              "      div.appendChild(progress);\n",
              "      document.body.appendChild(div);\n",
              "\n",
              "      const buffers = [];\n",
              "      let downloaded = 0;\n",
              "\n",
              "      const channel = await google.colab.kernel.comms.open(id);\n",
              "      // Send a message to notify the kernel that we're ready.\n",
              "      channel.send({})\n",
              "\n",
              "      for await (const message of channel.messages) {\n",
              "        // Send a message to notify the kernel that we're ready.\n",
              "        channel.send({})\n",
              "        if (message.buffers) {\n",
              "          for (const buffer of message.buffers) {\n",
              "            buffers.push(buffer);\n",
              "            downloaded += buffer.byteLength;\n",
              "            progress.value = downloaded;\n",
              "          }\n",
              "        }\n",
              "      }\n",
              "      const blob = new Blob(buffers, {type: 'application/binary'});\n",
              "      const a = document.createElement('a');\n",
              "      a.href = window.URL.createObjectURL(blob);\n",
              "      a.download = filename;\n",
              "      div.appendChild(a);\n",
              "      a.click();\n",
              "      div.remove();\n",
              "    }\n",
              "  "
            ],
            "text/plain": [
              "<IPython.core.display.Javascript object>"
            ]
          },
          "metadata": {
            "tags": []
          }
        },
        {
          "output_type": "display_data",
          "data": {
            "application/javascript": [
              "download(\"download_d5f8ce9d-276b-4d01-939b-20c182757a92\", \"info.json\", 1015187)"
            ],
            "text/plain": [
              "<IPython.core.display.Javascript object>"
            ]
          },
          "metadata": {
            "tags": []
          }
        }
      ]
    },
    {
      "cell_type": "code",
      "metadata": {
        "id": "rzMIfzCiNQhS"
      },
      "source": [
        ""
      ],
      "execution_count": null,
      "outputs": []
    }
  ]
}