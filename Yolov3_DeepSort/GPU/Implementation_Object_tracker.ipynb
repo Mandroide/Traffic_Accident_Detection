{
 "cells": [
  {
   "cell_type": "markdown",
   "metadata": {
    "id": "95g8eTeEHX4s"
   },
   "source": [
    "<table align=\"left\">\n",
    "  <td>\n",
    "    <a target=\"_blank\" href=\"https://colab.research.google.com/github/lopezbec/Traffic_Accident_Detection/blob/master/Yolov3_DeepSort/GPU/Implementation_Object_tracker.ipynb\"><img src=\"https://www.tensorflow.org/images/colab_logo_32px.png\" />Run in Google Colab</a>\n",
    "  </td>\n",
    "</table>"
   ]
  },
  {
   "cell_type": "markdown",
   "metadata": {
    "id": "7sHmZKgYUh1M"
   },
   "source": [
    "### Housekeeping Notes:"
   ]
  },
  {
   "cell_type": "markdown",
   "metadata": {
    "id": "m86SZCRpyLAM"
   },
   "source": [
    "Before you  start working with this notebook, you need to first \"mount\" your Google Drive in the runtime's Virtual Machine. This will allow you to read and save files from your own Google Drive. \n",
    "\n",
    "To do this, you need to provide the path of your Google Drive for  the folder of this assignment. Once you provide this information, run this code cell below and follow the instructions. \n"
   ]
  },
  {
   "cell_type": "code",
   "execution_count": null,
   "metadata": {
    "cellView": "both",
    "colab": {
     "base_uri": "https://localhost:8080/",
     "height": 51
    },
    "executionInfo": {
     "elapsed": 29742,
     "status": "ok",
     "timestamp": 1602305664065,
     "user": {
      "displayName": "orlin cury",
      "photoUrl": "https://lh3.googleusercontent.com/a-/AOh14GhEPutCVT53jKEChAkeVRi3cHs3kzJwLSboiQwAI9U=s64",
      "userId": "09148900503409813695"
     },
     "user_tz": 240
    },
    "id": "E9O9uEy8yKxY",
    "outputId": "51a619e2-57a3-4cf7-afd7-8bd9087c480c"
   },
   "outputs": [
    {
     "name": "stdout",
     "output_type": "stream",
     "text": [
      "Mounted at /content/gdrive\n",
      "current directory is : /content/gdrive/Shared drives/GitHub FONDOCYT/Yolov3_DeepSort/GPU\n"
     ]
    }
   ],
   "source": [
    "\n",
    "\n",
    "import os\n",
    "from google.colab import drive \n",
    "\n",
    "drive.mount('/content/gdrive',force_remount=True)\n",
    "\n",
    "Working_Directory = 'Shared drives/GitHub FONDOCYT/Yolov3_DeepSort/GPU' #@param {type:\"string\"}\n",
    "wd=\"/content/gdrive/\"+Working_Directory\n",
    "os.chdir(wd)\n",
    "\n",
    "\n",
    "dirpath = os.getcwd()\n",
    "print(\"current directory is : \" + dirpath)\n",
    "\n",
    "\n",
    "\n"
   ]
  },
  {
   "cell_type": "markdown",
   "metadata": {
    "id": "t2sRosoUPC4P"
   },
   "source": [
    "Before we begin, we need to install all the requirements"
   ]
  },
  {
   "cell_type": "code",
   "execution_count": null,
   "metadata": {
    "id": "_WLjTlzE79IS"
   },
   "outputs": [],
   "source": [
    "#installing requirements\n",
    "!pip install -r requirements-gpu.txt\n",
    "from IPython.display import clear_output\n",
    "#clear_output()\n",
    "print(\"All Requirements were installed!\")"
   ]
  },
  {
   "cell_type": "markdown",
   "metadata": {
    "id": "sluA7ZDgHOqc"
   },
   "source": [
    "Run this cell to download the weight files."
   ]
  },
  {
   "cell_type": "code",
   "execution_count": null,
   "metadata": {
    "id": "KXT4LxSeHOqf"
   },
   "outputs": [],
   "source": [
    "#Downloading the weigts\n",
    "!wget https://pjreddie.com/media/files/yolov3.weights -O weights/yolov3.weights"
   ]
  },
  {
   "cell_type": "markdown",
   "metadata": {
    "id": "-01ZuGy22yVh"
   },
   "source": [
    "**Loading the weight files** "
   ]
  },
  {
   "cell_type": "code",
   "execution_count": null,
   "metadata": {
    "id": "kdjlenpF28Bo"
   },
   "outputs": [],
   "source": [
    "# yolov3\n",
    "!python load_weights.py\n",
    "#clear_output()\n",
    "print(\"Weights were loaded!\")"
   ]
  },
  {
   "cell_type": "markdown",
   "metadata": {
    "id": "P9Sc0WV63YXY"
   },
   "source": [
    "#**Runing the tracker**\n",
    "You can run the tracker setting the video input and the output path for the resulting video.\n",
    "\n",
    "Note: for this case the resulting video is allways going to be a .avi file.\n",
    "\n",
    "Everytime the tracker is excecuted it is going to create/update a \".json\" file containing:\n",
    "\n",
    "\n",
    "*   Frame: the number of frame where the detection is made from.\n",
    "*   Track_id: an identification given to every object detected in the video.\n",
    "*   Class: the class of object detected.\n",
    "*   Center: this is going to be a set of coordinates x and y pointing to the center of the object detected in every case.\n",
    "*   Detection_box: this is a set of tow pairs of coordinates x and y, pointing to the starting and ending point for the rectangle drawned around every detection, this is going to be the next way (start_x, start_y,end_x,endy).\n"
   ]
  },
  {
   "cell_type": "code",
   "execution_count": null,
   "metadata": {
    "id": "Of1vf_A13mal"
   },
   "outputs": [],
   "source": [
    "# yolov3 on video\n",
    "!python object_tracker.py --video ./data/video/test.mp4 --output ./data/video/results.avi\n",
    "#clear_output()\n",
    "print('''\n",
    "        Video object tracking is done, go to /data/video\n",
    "        to see the resulting video...\n",
    "''')"
   ]
  }
 ],
 "metadata": {
  "accelerator": "GPU",
  "colab": {
   "collapsed_sections": [],
   "name": "Implementation_Object_tracker.ipynb",
   "provenance": []
  },
  "kernelspec": {
   "display_name": "Python 3",
   "language": "python",
   "name": "python3"
  },
  "language_info": {
   "codemirror_mode": {
    "name": "ipython",
    "version": 3
   },
   "file_extension": ".py",
   "mimetype": "text/x-python",
   "name": "python",
   "nbconvert_exporter": "python",
   "pygments_lexer": "ipython3",
   "version": "3.6.10"
  }
 },
 "nbformat": 4,
 "nbformat_minor": 1
}
